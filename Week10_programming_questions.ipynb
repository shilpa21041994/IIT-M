{
  "nbformat": 4,
  "nbformat_minor": 0,
  "metadata": {
    "colab": {
      "name": "Week10_programming_questions.ipynb",
      "provenance": [],
      "collapsed_sections": [],
      "include_colab_link": true
    },
    "kernelspec": {
      "name": "python3",
      "display_name": "Python 3"
    },
    "language_info": {
      "name": "python"
    }
  },
  "cells": [
    {
      "cell_type": "markdown",
      "metadata": {
        "id": "view-in-github",
        "colab_type": "text"
      },
      "source": [
        "<a href=\"https://colab.research.google.com/github/shilpa21041994/IIT-M/blob/main/Week10_programming_questions.ipynb\" target=\"_parent\"><img src=\"https://colab.research.google.com/assets/colab-badge.svg\" alt=\"Open In Colab\"/></a>"
      ]
    },
    {
      "cell_type": "markdown",
      "source": [
        "* There are 7 practice and 7 graded questions in this colab. \n",
        "* **For graded questions, the link to a dataset kept in the drive folder has to be provided on top of the graded assignment.**"
      ],
      "metadata": {
        "id": "tDCyleh-JBAH"
      }
    },
    {
      "cell_type": "markdown",
      "source": [
        "#Practice Questions 1-2\n",
        "\n",
        "Load the wine dataset from sklearn.\n",
        "\n",
        "- Split the dataset into train and test set with 70:30 ratio with `random_state = 1`.\n",
        "- Use AdaBoostClassifier with random_state = 1 (other values being default).\n",
        "- Train the 'model' and compute the 'score' on training data and test data\n",
        "\n",
        "Question 1: Enter the value of the 'score' on training set.\n",
        "\n",
        "(NAT) **Answer: 0.6774 (Range : 0.67 - 0.68)**\n",
        "\n",
        "Question 2: Enter the value of the 'score' on testing set. \n",
        "\n",
        "(NAT) **Answer: 0.5370(Range : 0.53 - 0.54)**\n"
      ],
      "metadata": {
        "id": "l8d2AiStBx7e"
      }
    },
    {
      "cell_type": "code",
      "source": [
        "import numpy as np\n",
        "import sklearn\n",
        "import pandas as pd\n",
        "\n",
        "from sklearn.datasets import load_wine\n",
        "df = load_wine()\n",
        "\n",
        "from sklearn.model_selection import train_test_split\n",
        "X_train, X_test, y_train, y_test = train_test_split(df.data, df.target, test_size=0.3, random_state = 1)"
      ],
      "metadata": {
        "id": "tY-7rJmRBx7m"
      },
      "execution_count": null,
      "outputs": []
    },
    {
      "cell_type": "code",
      "source": [
        "from sklearn.ensemble import AdaBoostClassifier\n",
        "model = AdaBoostClassifier(random_state = 1)\n",
        "model.fit(X_train, y_train)\n",
        "print('Score on Training set is:',model.score(X_train,y_train))\n",
        "print('Score on Testing set is:', model.score(X_test,y_test))"
      ],
      "metadata": {
        "colab": {
          "base_uri": "https://localhost:8080/"
        },
        "outputId": "641fc000-8865-4ffd-ef1a-387648f6997f",
        "id": "hBfsHJEbBx7o"
      },
      "execution_count": null,
      "outputs": [
        {
          "output_type": "stream",
          "name": "stdout",
          "text": [
            "Score on Training set is: 0.6774193548387096\n",
            "Score on Testing set is: 0.5370370370370371\n"
          ]
        }
      ]
    },
    {
      "cell_type": "markdown",
      "source": [
        "#Practice Questions 3-5\n",
        "\n",
        "Load the wine dataset from sklearn.\n",
        "\n",
        "- Split the dataset into train and test set with 70:30 ratio with random_state = 1.\n",
        "- Use AdaBoostClassifier with random_state = 1 (other values being default).\n",
        "- Perform Hyperparameter tuning using GridSearchCV over the following:\n",
        "  - Use n_estimators as [100,500,1000]\n",
        "  - Use learning_rate as [0.5,1,2]\n",
        "- Train the 'model' and compute the 'score' on training data and test data\n",
        "\n",
        "Question 3: Enter the value of the 'score' on testing set. \n",
        "\n",
        "(NAT)\n",
        "\n",
        " **Answer: 0.9629 (Range : 0.96-0.97)**\n",
        "\n",
        "Question 4: Enter the value of best `n_estimators` of the model after training with GridSearchCV \n",
        "\n",
        "(NAT)\n",
        "\n",
        " **Answer: 100**\n",
        "\n",
        "Question 5: Enter the value of best `learning_rate` of the model after training with GridSearchCV \n",
        "\n",
        "(NAT)  \n",
        "\n",
        "**Answer: 0.5**"
      ],
      "metadata": {
        "id": "GNSpPNUlCqzI"
      }
    },
    {
      "cell_type": "code",
      "source": [
        "import numpy as np\n",
        "import sklearn\n",
        "import pandas as pd\n",
        "\n",
        "from sklearn.datasets import load_wine\n",
        "df = load_wine()\n",
        "\n",
        "from sklearn.model_selection import train_test_split\n",
        "X_train, X_test, y_train, y_test = train_test_split(df.data, df.target, test_size=0.3, random_state = 1)"
      ],
      "metadata": {
        "id": "UMPS2dwhD0bD"
      },
      "execution_count": null,
      "outputs": []
    },
    {
      "cell_type": "code",
      "source": [
        "\n",
        "from sklearn.model_selection import GridSearchCV\n",
        "from sklearn.ensemble import AdaBoostClassifier\n",
        "\n",
        "\n",
        "model = AdaBoostClassifier(random_state = 1)\n",
        "\n",
        "modelgrid = GridSearchCV(model,\n",
        "                        {'n_estimators':[100, 500,1000],\n",
        "                          'learning_rate':[0.5,1,2]\n",
        "                          } ,\n",
        "                        cv = 4, \n",
        "                        return_train_score = True)\n",
        "modelgrid.fit(X_train, y_train)\n",
        "print(modelgrid.score(X_train,y_train))\n",
        "print(modelgrid.score(X_test,y_test))\n",
        "print(modelgrid.best_params_)"
      ],
      "metadata": {
        "colab": {
          "base_uri": "https://localhost:8080/"
        },
        "id": "J_jLU0jiC_XJ",
        "outputId": "189e619b-e8ce-4ac9-a5a5-997bb036b2a7"
      },
      "execution_count": null,
      "outputs": [
        {
          "output_type": "stream",
          "name": "stdout",
          "text": [
            "1.0\n",
            "0.9629629629629629\n",
            "{'learning_rate': 0.5, 'n_estimators': 100}\n"
          ]
        }
      ]
    },
    {
      "cell_type": "markdown",
      "source": [
        "#Practice Questions 6-7 \n",
        "\n",
        "Write a code to predict the score on the training set and the testing set using Voting Classifier on wine dataset\n",
        "Write your code based on the following keypoints:\n",
        "- Split the dataset into train and test set with 70:30 ratio with `random_state = 1`.\n",
        "- Import model. Keep estimators as BaggingClassifier, Random Forest, GradientBoosting Classifier with random_state = 1\n",
        "- Train the 'model' and compute the 'score' on training data and test data\n",
        "\n",
        "Question 6: Enter the value of the 'score' on training set. (Enter your answer in four decimal places)\n",
        "\n",
        "(NAT) **Answer: 1.0 (Range : 0.99 - 1.00)**\n",
        "\n",
        "Question 7: Enter the value of the 'score' on testing set. (Enter your answer in four decimal places)\n",
        "\n",
        "(NAT) **Answer: 0.9815 (Range : 0.975 - 0.985)**"
      ],
      "metadata": {
        "id": "BlQwADCM91Ih"
      }
    },
    {
      "cell_type": "code",
      "source": [
        "import numpy as np\n",
        "import sklearn\n",
        "import pandas as pd\n",
        "\n",
        "from sklearn.datasets import load_wine\n",
        "df = load_wine()\n",
        "\n",
        "from sklearn.model_selection import train_test_split\n",
        "X_train, X_test, y_train, y_test = train_test_split(df.data, df.target, test_size=0.3, random_state = 1)"
      ],
      "metadata": {
        "id": "raeQ5eUJ91In"
      },
      "execution_count": null,
      "outputs": []
    },
    {
      "cell_type": "code",
      "source": [
        "from sklearn.ensemble import BaggingClassifier\n",
        "from sklearn.ensemble import RandomForestClassifier\n",
        "from sklearn.ensemble import GradientBoostingClassifier\n",
        "\n",
        "from sklearn.ensemble import VotingClassifier\n",
        "clf1  = BaggingClassifier(random_state = 1)\n",
        "clf2 = RandomForestClassifier(random_state = 1)\n",
        "clf3 = GradientBoostingClassifier(random_state = 1)\n",
        "\n",
        "model = VotingClassifier(estimators = [('bc',clf1),('rf',clf2),('gb',clf3)])\n",
        "model.fit(X_train, y_train)\n",
        "print('Score on Training set is:',model.score(X_train,y_train))\n",
        "print('Score on Testing set is:', model.score(X_test,y_test))"
      ],
      "metadata": {
        "colab": {
          "base_uri": "https://localhost:8080/"
        },
        "outputId": "12ac732e-1fbe-4115-b6e0-7c71d52a0ba8",
        "id": "6rh0uoE091Ir"
      },
      "execution_count": null,
      "outputs": [
        {
          "output_type": "stream",
          "name": "stdout",
          "text": [
            "Score on Training set is: 1.0\n",
            "Score on Testing set is: 0.9814814814814815\n"
          ]
        }
      ]
    },
    {
      "cell_type": "markdown",
      "source": [
        "#Preamble (To be added on top of graded assignment.)\n",
        "\n",
        "Load Used Cars Price Prediction dataset available at following\n",
        "https://drive.google.com/uc?export=download&id=1tKqddJuIiRqrm7ml2qyVGJlAW3JQjaZX"
      ],
      "metadata": {
        "id": "K0ovwPwRI10H"
      }
    },
    {
      "cell_type": "markdown",
      "source": [
        "#Graded Questions 1-4\n",
        "\n",
        "Load the used cars' dataset.\n",
        "\n",
        "The target variable is 'MSRP'.\n",
        "\n",
        "* Remove the rows that contain NULL values.\n",
        "* Drop 'Invoice' feature.\n",
        "* Preprocess to remove comma and dollar sign from MSRP (and cast its type as integer).\n",
        "* Use Pandas.get_dummies() on the categorical features : 'Make','Model','Type','Origin', 'DriveTrain'\n",
        "* Split the data into X and y and then train and test subsets using  70:30 ratio with `random_state = 1`.\n",
        "* Train the model using the following (All with default values and random_state = 1): \n",
        "  - BaggingRegressor\n",
        "  - RandomForestRegressor\n",
        "  - GradientBoostingRegressor\n",
        "  - AdaBoostRegressor\n",
        "\n",
        "\n",
        "Question 1: Enter the value of the 'score' on testing set using `BaggingRegressor`. \n",
        "\n",
        "(NAT) **Answer: 0.7949 (Range : 0.79 - 0.80)**\n",
        "\n",
        "\n",
        "Question 2: Enter the value of the 'score' on testing set using `RandomForestRegressor`. \n",
        "\n",
        "(NAT) **Answer: 0.8369 (Range : 0.8310 - 0.8410)**\n",
        "\n",
        "\n",
        "Question 3: Enter the value of the 'score' on testing set using `GradientBoostingRegressor`. \n",
        "\n",
        "(NAT) **Answer: 0.8270 (Range : 0.821 - 0.831)**\n",
        "\n",
        "\n",
        "Question 4: Enter the value of the 'score' on testing set using `AdaBoostRegressor`. \n",
        "\n",
        "(NAT) **Answer: 0.7119 (Range : 0.706 - 0.716)**\n"
      ],
      "metadata": {
        "id": "K6jfxal7KEGd"
      }
    },
    {
      "cell_type": "code",
      "source": [
        "#Importing Libraries\n",
        "import numpy as np\n",
        "import sklearn\n",
        "import pandas as pd\n",
        "\n",
        "#Loading and preprocessing the data\n",
        "car_df = pd.read_csv('https://drive.google.com/uc?export=download&id=1tKqddJuIiRqrm7ml2qyVGJlAW3JQjaZX')\n",
        "car_df = car_df.dropna()\n",
        "\n",
        "car_df = car_df.drop('Invoice', axis = 1)\n",
        "\n",
        "car_df['MSRP'] = car_df[\"MSRP\"].str.replace(\"$\", \"\")\n",
        "car_df['MSRP'] = car_df[\"MSRP\"].str.replace(\",\", \"\")\n",
        "car_df['MSRP'] = car_df[\"MSRP\"].astype(int)\n",
        "\n",
        "\n",
        "car_df = pd.get_dummies(car_df, columns = ['Make','Model','Type','Origin', 'DriveTrain'])\n",
        "\n",
        "\n",
        "X = car_df.drop(\"MSRP\", axis = 1)\n",
        "y = car_df[\"MSRP\"]\n",
        "\n",
        "print(X.shape)\n",
        "print(y.shape)\n",
        "print(X.head())\n",
        "\n",
        "#Spliting the data\n",
        "from sklearn.model_selection import train_test_split\n",
        "X_train, X_test, y_train, y_test = train_test_split(X,y, test_size=0.3, random_state = 1)"
      ],
      "metadata": {
        "colab": {
          "base_uri": "https://localhost:8080/"
        },
        "id": "fe7UxZ1nKEGh",
        "outputId": "d6d22e59-fe92-4c7c-c67b-4857bea9b0f5"
      },
      "execution_count": null,
      "outputs": [
        {
          "output_type": "stream",
          "name": "stdout",
          "text": [
            "(426, 481)\n",
            "(426,)\n",
            "   EngineSize  Cylinders  ...  DriveTrain_Front  DriveTrain_Rear\n",
            "0         3.5        6.0  ...                 0                0\n",
            "1         2.0        4.0  ...                 1                0\n",
            "2         2.4        4.0  ...                 1                0\n",
            "3         3.2        6.0  ...                 1                0\n",
            "4         3.5        6.0  ...                 1                0\n",
            "\n",
            "[5 rows x 481 columns]\n"
          ]
        },
        {
          "output_type": "stream",
          "name": "stderr",
          "text": [
            "/usr/local/lib/python3.7/dist-packages/ipykernel_launcher.py:12: FutureWarning: The default value of regex will change from True to False in a future version. In addition, single character regular expressions will *not* be treated as literal strings when regex=True.\n",
            "  if sys.path[0] == '':\n"
          ]
        }
      ]
    },
    {
      "cell_type": "code",
      "source": [
        "from sklearn.ensemble import BaggingRegressor\n",
        "model = BaggingRegressor(random_state = 1)\n",
        "model.fit(X_train, y_train)\n",
        "print('Score on Training set is:',model.score(X_train,y_train))\n",
        "print('Score on Testing set is:', model.score(X_test,y_test))\n",
        "\n",
        "\n",
        "from sklearn.ensemble import RandomForestRegressor\n",
        "model = RandomForestRegressor(random_state = 1)\n",
        "model.fit(X_train, y_train)\n",
        "print('Score on Training set is:',model.score(X_train,y_train))\n",
        "print('Score on Testing set is:', model.score(X_test,y_test))\n",
        "\n",
        "\n",
        "from sklearn.ensemble import GradientBoostingRegressor\n",
        "model = GradientBoostingRegressor(random_state = 1)\n",
        "model.fit(X_train, y_train)\n",
        "print('Score on Training set is:',model.score(X_train,y_train))\n",
        "print('Score on Testing set is:', model.score(X_test,y_test))\n",
        "\n",
        "from sklearn.ensemble import AdaBoostRegressor\n",
        "model = AdaBoostRegressor(random_state = 1)\n",
        "model.fit(X_train, y_train)\n",
        "print('Score on Training set is:',model.score(X_train,y_train))\n",
        "print('Score on Testing set is:', model.score(X_test,y_test))\n"
      ],
      "metadata": {
        "colab": {
          "base_uri": "https://localhost:8080/"
        },
        "outputId": "cb2726fd-0150-4bb3-c23f-4b163524bceb",
        "id": "vS0uXNSsKEGk"
      },
      "execution_count": null,
      "outputs": [
        {
          "output_type": "stream",
          "name": "stdout",
          "text": [
            "Score on Training set is: 0.9567015457407546\n",
            "Score on Testing set is: 0.7949163237522345\n",
            "Score on Training set is: 0.978182315656497\n",
            "Score on Testing set is: 0.8369440882741959\n",
            "Score on Training set is: 0.9841884742397355\n",
            "Score on Testing set is: 0.8270485242007507\n",
            "Score on Training set is: 0.9008410947504886\n",
            "Score on Testing set is: 0.711903287964231\n"
          ]
        }
      ]
    },
    {
      "cell_type": "markdown",
      "source": [
        "#Graded Questions 5-7\n",
        "\n",
        "On the same data set, perform the preprocessing stated in the previous questions, and perform Hyperparameter Tuning using GridSearchCV on AdaBoostRegressor. Use random_state to be 1.  \n",
        "\n",
        "- Hyperparameter tuning to be done over:\n",
        "  - Use n_estimators as [100,500,1000]\n",
        "  - Use learning_rate as [0.5,1,2]\n",
        "\n",
        "- Train the 'model' and compute the 'score' on the test data.\n",
        "\n",
        "Question 5: Enter the value of the 'score' on testing set. \n",
        "\n",
        "(NAT) **Answer: 0.9085 (Range : 0.90 - 0.91)**\n",
        "\n",
        "Question 6: Enter the value of best `n_estimators` of the model after training with GridSearchCV \n",
        "\n",
        "(NAT) \n",
        "**Answer: 1000**\n",
        "\n",
        "Question 7: Enter the value of best `learning_rate` of the model after training with GridSearchCV \n",
        "\n",
        "(NAT)  **Answer: 1**"
      ],
      "metadata": {
        "id": "rjfgWUtENZRn"
      }
    },
    {
      "cell_type": "code",
      "source": [
        "#Importing Libraries\n",
        "import numpy as np\n",
        "import sklearn\n",
        "import pandas as pd\n",
        "\n",
        "#Loading and preprocessing the data\n",
        "car_df = pd.read_csv('https://drive.google.com/uc?export=download&id=1tKqddJuIiRqrm7ml2qyVGJlAW3JQjaZX')\n",
        "car_df = car_df.dropna()\n",
        "\n",
        "car_df = car_df.drop('Invoice', axis = 1)\n",
        "\n",
        "car_df['MSRP'] = car_df[\"MSRP\"].str.replace(\"$\", \"\")\n",
        "car_df['MSRP'] = car_df[\"MSRP\"].str.replace(\",\", \"\")\n",
        "car_df['MSRP'] = car_df[\"MSRP\"].astype(int)\n",
        "\n",
        "\n",
        "car_df = pd.get_dummies(car_df, columns = ['Make','Model','Type','Origin', 'DriveTrain'])\n",
        "\n",
        "\n",
        "X = car_df.drop(\"MSRP\", axis = 1)\n",
        "y = car_df[\"MSRP\"]\n",
        "\n",
        "print(X.shape)\n",
        "print(y.shape)\n",
        "print(X.head())\n",
        "\n",
        "#Spliting the data\n",
        "from sklearn.model_selection import train_test_split\n",
        "X_train, X_test, y_train, y_test = train_test_split(X,y, test_size=0.3, random_state = 1)"
      ],
      "metadata": {
        "colab": {
          "base_uri": "https://localhost:8080/"
        },
        "id": "sBmiOavBNZRo",
        "outputId": "60a7ab3b-68f7-4b28-93b1-089ff0c2399a"
      },
      "execution_count": null,
      "outputs": [
        {
          "output_type": "stream",
          "name": "stdout",
          "text": [
            "(426, 481)\n",
            "(426,)\n",
            "   EngineSize  Cylinders  ...  DriveTrain_Front  DriveTrain_Rear\n",
            "0         3.5        6.0  ...                 0                0\n",
            "1         2.0        4.0  ...                 1                0\n",
            "2         2.4        4.0  ...                 1                0\n",
            "3         3.2        6.0  ...                 1                0\n",
            "4         3.5        6.0  ...                 1                0\n",
            "\n",
            "[5 rows x 481 columns]\n"
          ]
        },
        {
          "output_type": "stream",
          "name": "stderr",
          "text": [
            "/usr/local/lib/python3.7/dist-packages/ipykernel_launcher.py:12: FutureWarning: The default value of regex will change from True to False in a future version. In addition, single character regular expressions will *not* be treated as literal strings when regex=True.\n",
            "  if sys.path[0] == '':\n"
          ]
        }
      ]
    },
    {
      "cell_type": "code",
      "source": [
        "\n",
        "from sklearn.model_selection import GridSearchCV\n",
        "from sklearn.ensemble import AdaBoostRegressor\n",
        "\n",
        "\n",
        "model = AdaBoostRegressor(random_state = 1)\n",
        "\n",
        "modelgrid = GridSearchCV(model,\n",
        "                        {'n_estimators':[100, 500,1000],\n",
        "                          'learning_rate':[0.5,1,2]\n",
        "                          } ,\n",
        "                        cv = 4, \n",
        "                        return_train_score = True)\n",
        "modelgrid.fit(X_train, y_train)\n",
        "print(modelgrid.score(X_train,y_train))\n",
        "print(modelgrid.score(X_test,y_test))\n",
        "print(modelgrid.best_params_)"
      ],
      "metadata": {
        "colab": {
          "base_uri": "https://localhost:8080/"
        },
        "outputId": "f6a4c6e9-a3ea-4aae-90ef-725958735f04",
        "id": "e8j2TgbONZRo"
      },
      "execution_count": null,
      "outputs": [
        {
          "output_type": "stream",
          "name": "stdout",
          "text": [
            "0.9084901949117243\n",
            "0.7130800769863186\n",
            "{'learning_rate': 1, 'n_estimators': 1000}\n"
          ]
        }
      ]
    }
  ]
}